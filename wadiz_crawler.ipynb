{
 "cells": [
  {
   "cell_type": "code",
   "execution_count": null,
   "id": "849d94b6",
   "metadata": {},
   "outputs": [],
   "source": [
    "from selenium import webdriver\n",
    "from selenium.webdriver.common.by import By\n",
    "from selenium.webdriver.chrome.service import Service\n",
    "from webdriver_manager.chrome import ChromeDriverManager\n",
    "import time\n",
    "\n",
    "wadiz_url = \"https://www.wadiz.kr/web/wreward/category/287?order=recommend\"\n",
    "\n",
    "options = webdriver.ChromeOptions()\n",
    "options.add_argument('--no-sandbox')\n",
    "options.add_argument('--disable-dev-shm-usage')\n",
    "options.add_argument(\"user-agent=Mozilla/5.0 (Windows NT 6.1; WOW64; Trident/7.0; rv:11.0) like Gecko\")\n",
    "\n",
    "driver = webdriver.Chrome(service= Service(ChromeDriverManager().install()))\n",
    "driver.get(wadiz_url)\n",
    "\n",
    "elements = driver.find_element_by(By.XPATH, '//*[@id=\"main-app\"]/div[2]/div[6]/div[3]/div[1]/a')\n",
    "#time.sleep(0.5)\n",
    "# driver.execute_script(\"arguments[0].click():\", elements)\n",
    "# time.sleep(0.5)\n",
    "\n",
    "# SCROLL_PAUSE_TIME = 10\n",
    "# count = 0\n",
    "# last_height = driver.execute_script(\"return document.body.scrollHeight\")\n",
    "\n",
    "# for i in range(50):\n",
    "#     driver.execute_script(\"window.scrollTo(0, document.body.scrollHeight):\")"
   ]
  },
  {
   "cell_type": "code",
   "execution_count": null,
   "id": "8d78c1f3",
   "metadata": {},
   "outputs": [],
   "source": []
  },
  {
   "cell_type": "code",
   "execution_count": null,
   "id": "96571763",
   "metadata": {},
   "outputs": [],
   "source": []
  }
 ],
 "metadata": {
  "kernelspec": {
   "display_name": "Python 3 (ipykernel)",
   "language": "python",
   "name": "python3"
  },
  "language_info": {
   "codemirror_mode": {
    "name": "ipython",
    "version": 3
   },
   "file_extension": ".py",
   "mimetype": "text/x-python",
   "name": "python",
   "nbconvert_exporter": "python",
   "pygments_lexer": "ipython3",
   "version": "3.7.13"
  }
 },
 "nbformat": 4,
 "nbformat_minor": 5
}
